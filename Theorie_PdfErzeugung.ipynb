{
 "cells": [
  {
   "cell_type": "markdown",
   "source": [
    "# PDF Erzeugung\n",
    "\n",
    "Neben zahlreichen Anwendungen in den Bereichen Webentwicklung, Datenanalyse und maschinelles Lernen kann Python auch zur Erzeugung von PDF-Dateien verwendet werden. Dies ermöglicht es, Text, Grafiken und Daten in einem übersichtlichen, plattformunabhängigen Format darzustellen. In diesem Projekt zeigen wir, wie Python in Kombination mit Jupyter Notebook (.ipynb-Dateien) verwendet werden kann, um PDF-Dokumente zu generieren.\n",
    "\n",
    "Um die benötigte Bibliothek herunterzuladen, führe folgenden Befehl im Terminal aus:"
   ],
   "metadata": {
    "collapsed": false
   },
   "id": "45105f37947dbafe"
  },
  {
   "cell_type": "markdown",
   "source": [
    "```sys\n",
    "pip install reportlab\n",
    "```"
   ],
   "metadata": {
    "collapsed": false
   },
   "id": "ac991cf899c805ee"
  },
  {
   "cell_type": "markdown",
   "source": [
    "## Importieren von den Entsprechenden Bibliotheken"
   ],
   "metadata": {
    "collapsed": false
   },
   "id": "3e470fcabdc34f8e"
  },
  {
   "cell_type": "code",
   "execution_count": 25,
   "outputs": [],
   "source": [
    "from reportlab.pdfgen import canvas\n",
    "from reportlab.lib.pagesizes import A4"
   ],
   "metadata": {
    "collapsed": false,
    "ExecuteTime": {
     "end_time": "2023-11-16T18:25:02.689976Z",
     "start_time": "2023-11-16T18:25:02.638679900Z"
    }
   },
   "id": "bbcda7aa7ce809ae"
  },
  {
   "cell_type": "markdown",
   "source": [
    "## Erstellen einer einfache PDF Datei\n",
    "\n",
    "    Hinweis: Beachte das der Urpsrungspunkt, für die Koordinaten x und y, unten links im Eck ist!"
   ],
   "metadata": {
    "collapsed": false
   },
   "id": "7179333ba030db63"
  },
  {
   "cell_type": "code",
   "execution_count": 26,
   "outputs": [],
   "source": [
    "# Erstellen der PDF und das Formnat per \"pagesize=A4\" angeben. \n",
    "c = canvas.Canvas(\"Beispiel.pdf\", pagesize=A4)"
   ],
   "metadata": {
    "collapsed": false,
    "ExecuteTime": {
     "end_time": "2023-11-16T18:25:02.704533700Z",
     "start_time": "2023-11-16T18:25:02.644660900Z"
    }
   },
   "id": "bdac9b6823665c95"
  },
  {
   "cell_type": "markdown",
   "source": [
    "## Einen Text erstellen"
   ],
   "metadata": {
    "collapsed": false
   },
   "id": "ed1441cd48f5516a"
  },
  {
   "cell_type": "code",
   "execution_count": 27,
   "outputs": [],
   "source": [
    "c.drawString(30, 800, \"Formular\")\n",
    "c.setFont(\"Times-Roman\", 8)"
   ],
   "metadata": {
    "collapsed": false,
    "ExecuteTime": {
     "end_time": "2023-11-16T18:25:02.761402800Z",
     "start_time": "2023-11-16T18:25:02.663612500Z"
    }
   },
   "id": "9360fbbc51df1635"
  },
  {
   "cell_type": "markdown",
   "source": [
    "## Ein Frame erstellen \n",
    "\"width\" ist die Breite, \"height\" die Höhe, \"stroke\" die Borderbreite und \"fill\" gibt an ob das innere gefillt werden soll oder nicht.\n"
   ],
   "metadata": {
    "collapsed": false
   },
   "id": "ea5e347bbc36353a"
  },
  {
   "cell_type": "code",
   "execution_count": 28,
   "outputs": [],
   "source": [
    "c.rect(25, 685, width=400, height=100, stroke=1, fill=0)\n",
    "c.drawString(30, 765, \"Vorname:\")"
   ],
   "metadata": {
    "collapsed": false,
    "ExecuteTime": {
     "end_time": "2023-11-16T18:25:02.783461300Z",
     "start_time": "2023-11-16T18:25:02.681077800Z"
    }
   },
   "id": "313df43fda454707"
  },
  {
   "cell_type": "markdown",
   "source": [
    "## Ein Textfield erzeugen \n",
    "\n",
    "Der Code erstellt in einer PDF-Datei Textfelder für den Nachnamen und die Postleitzahl. Die Textfelder für den Nachnamen und die Postleitzahl haben jeweils die Namen 'tf2' und 'tf3' und werden bei den angegebenen Koordinaten platziert."
   ],
   "metadata": {
    "collapsed": false
   },
   "id": "f07525e7e1a2914c"
  },
  {
   "cell_type": "code",
   "execution_count": 29,
   "outputs": [],
   "source": [
    "c.acroForm.textfield(name='tf1', x=100, y=760, width=100, height=15)\n",
    "\n",
    "c.drawString(30, 740, \"Nachname:\")\n",
    "c.acroForm.textfield(name='tf2', x=100, y=735, width=100, height=15)\n",
    "\n",
    "c.drawString(30, 715, \"PLZ:\")\n",
    "c.acroForm.textfield(name='tf3', x=100, y=710, width=100, height=15)"
   ],
   "metadata": {
    "collapsed": false,
    "ExecuteTime": {
     "end_time": "2023-11-16T18:25:02.785456100Z",
     "start_time": "2023-11-16T18:25:02.695959800Z"
    }
   },
   "id": "d332034334e5f90b"
  },
  {
   "cell_type": "markdown",
   "source": [
    "## Checkbox erstellen\n",
    "\n",
    "Der Code erstellt ein nicht ausgewähltes AGB-Kontrollkästchen bei den Koordinaten (26, 652) mit einer Größe von 10 und platziert den Text \"Hiermit bestätige ich die AGBs\" bei den Koordinaten (38, 655) in der PDF."
   ],
   "metadata": {
    "collapsed": false
   },
   "id": "8618364722c2e5a7"
  },
  {
   "cell_type": "code",
   "execution_count": 30,
   "outputs": [],
   "source": [
    "c.acroForm.checkbox(x=26, y=652, size=10, checked=False, buttonStyle='check', name=\"agb\")\n",
    "\n",
    "# Text für AGB Hinweis erstellen\n",
    "## ein Textobjekt mit den Anfangskoordinaten 38, 655 erstellen\n",
    "text = c.beginText(38, 655)\n",
    "## Die Schriftart so wie die Schriftgröße festlegen\n",
    "text.setFont(\"Times-Roman\", 8)\n",
    "## Den Textinhalt erstellen\n",
    "text.textLine(\"Hiermit bestätige ich die AGBs\")\n",
    "## Den erstellten Text mit der Schriftart und der Schriftgröße auf die Zeichenfläche 'c' zeichnen.\n",
    "c.drawText(text)"
   ],
   "metadata": {
    "collapsed": false,
    "ExecuteTime": {
     "end_time": "2023-11-16T18:25:02.785456100Z",
     "start_time": "2023-11-16T18:25:02.707525100Z"
    }
   },
   "id": "a33ec17540b9dedf"
  },
  {
   "cell_type": "markdown",
   "source": [
    "## Hyperlinks einbinden\n",
    "Den interaktiven Bereich erstellen der den Nutzer per Mausklick auf die Website der AGBs weiter leitet."
   ],
   "metadata": {
    "collapsed": false
   },
   "id": "490810620e6dd99e"
  },
  {
   "cell_type": "code",
   "execution_count": 31,
   "outputs": [],
   "source": [
    "# Setzten der X Koordinaten\n",
    "link_x = 115\n",
    "# Setzten der Y Koordinaten\n",
    "link_y = 655\n",
    "# Setzten der Box breite\n",
    "link_width = 20\n",
    "# Setzten der Box höhe\n",
    "link_height = 8\n",
    "# Die genutzte URL\n",
    "link_url = \"https://www.agb.de\"\n",
    "# Den Bereich definieren mit dem der Link aktiv ist.\n",
    "c.linkURL(link_url, (link_x, link_y, link_x + link_width, link_y + link_height))"
   ],
   "metadata": {
    "collapsed": false,
    "ExecuteTime": {
     "end_time": "2023-11-16T18:25:02.786453700Z",
     "start_time": "2023-11-16T18:25:02.720002900Z"
    }
   },
   "id": "7a60150c03ea5694"
  },
  {
   "cell_type": "markdown",
   "source": [
    "## Bild hinzufügen\n",
    "\n",
    "Der Code verwendet die ReportLab-Bibliothek, um ein Bild (\"el-gatto.jpg\") auf einer PDF-Datei zu platzieren. Dabei werden die Koordinaten (x=480, y=730) für die Positionierung und die Breite (width=100) sowie die Höhe (height=100) des Bildes spezifiziert."
   ],
   "metadata": {
    "collapsed": false
   },
   "id": "48e65ac10fa826a7"
  },
  {
   "cell_type": "code",
   "execution_count": 32,
   "outputs": [
    {
     "data": {
      "text/plain": "(500, 500)"
     },
     "execution_count": 32,
     "metadata": {},
     "output_type": "execute_result"
    }
   ],
   "source": [
    "# Der Pfad zu dem genutzten Bild\n",
    "image_path = \"images/el-gato.jpg\"\n",
    "# Das Bild mit den angegebenen Koordinaten auf der PDF platzieren.\n",
    "c.drawImage(image_path, x=480, y=730, width=100, height=100)"
   ],
   "metadata": {
    "collapsed": false,
    "ExecuteTime": {
     "end_time": "2023-11-16T18:25:02.787450400Z",
     "start_time": "2023-11-16T18:25:02.729488200Z"
    }
   },
   "id": "e2127b9f23e002c4"
  },
  {
   "cell_type": "markdown",
   "source": [
    "## Unterschrift\n",
    "Der Code verwendet die ReportLab-Bibliothek, um dünnere Linien zu setzen und zwei Linien sowie die Texte \"Unterschrift\" und \"Datum\" in einer PDF-Datei zu positionieren."
   ],
   "metadata": {
    "collapsed": false
   },
   "id": "5cffdb44444bfb50"
  },
  {
   "cell_type": "code",
   "execution_count": 33,
   "outputs": [],
   "source": [
    "# Setze die Linienbreite auf 0.5 (dünnere Linie)\n",
    "c.setLineWidth(0.5) \n",
    "\n",
    "c.line(30, 580, 100, 580)\n",
    "c.line(120, 580, 190, 580)\n",
    "\n",
    "c.setFont(\"Times-Roman\", 6)\n",
    "\n",
    "c.drawString(x=30, y=572, text=\"Unterschrift\")\n",
    "c.drawString(x=120, y=572, text=\"Datum\")"
   ],
   "metadata": {
    "collapsed": false,
    "ExecuteTime": {
     "end_time": "2023-11-16T18:25:02.788448900Z",
     "start_time": "2023-11-16T18:25:02.768502300Z"
    }
   },
   "id": "d46242525317b83b"
  },
  {
   "cell_type": "markdown",
   "source": [
    "## Speichern"
   ],
   "metadata": {
    "collapsed": false
   },
   "id": "4d377f2945d1d01a"
  },
  {
   "cell_type": "code",
   "execution_count": 34,
   "outputs": [],
   "source": [
    "c.save()"
   ],
   "metadata": {
    "collapsed": false,
    "ExecuteTime": {
     "end_time": "2023-11-16T18:25:02.840407500Z",
     "start_time": "2023-11-16T18:25:02.778474900Z"
    }
   },
   "id": "57a779f413876ce2"
  }
 ],
 "metadata": {
  "kernelspec": {
   "display_name": "Python 3",
   "language": "python",
   "name": "python3"
  },
  "language_info": {
   "codemirror_mode": {
    "name": "ipython",
    "version": 2
   },
   "file_extension": ".py",
   "mimetype": "text/x-python",
   "name": "python",
   "nbconvert_exporter": "python",
   "pygments_lexer": "ipython2",
   "version": "2.7.6"
  }
 },
 "nbformat": 4,
 "nbformat_minor": 5
}
