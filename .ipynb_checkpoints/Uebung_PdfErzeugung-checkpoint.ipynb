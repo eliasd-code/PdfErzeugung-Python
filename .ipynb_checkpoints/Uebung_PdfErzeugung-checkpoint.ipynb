{
 "cells": [
  {
   "cell_type": "markdown",
   "source": [
    "# Übung - PDF Erzeugung\n",
    "\n",
    "Versetze dich in die Lage eine Azubis der kurz vor seine Prüfungsphase steht. Es wird Zeit Bewerbungen zu schreiben - wenn nicht schon getan! Da du dich dafür entschieden hast Informatiker zu werden, willst du deine Bewerbung auch per Code generieren lassen.\n",
    "Was käm also nicht eher in Frage, als die in der Schule kürzliche erlernt Sprache Python zu verwenden um eine durch Code generierte Bewerbung als PDF zu erstellen.\n",
    "Cool - Nicht? &#128521;\n",
    "Sie dir folgendes Bild an und versuche mit Hilfe des [Theorieblatts](/Theorie_PdfErzeugung.ipynb) die Vorlage nachzubauen.\n",
    "\n",
    "![Bild](images/BewerbungVorlage.png)"
   ],
   "metadata": {
    "collapsed": false
   },
   "id": "3b490f1a150a0453"
  },
  {
   "cell_type": "code",
   "execution_count": 4,
   "id": "initial_id",
   "metadata": {
    "collapsed": true,
    "ExecuteTime": {
     "end_time": "2023-11-07T16:50:45.399008800Z",
     "start_time": "2023-11-07T16:50:45.383803800Z"
    }
   },
   "outputs": [],
   "source": [
    "from reportlab.lib.pagesizes import A4\n",
    "from reportlab.pdfgen import canvas\n",
    "\n",
    "c = canvas.Canvas(\"Uebung.pdf\", pagesize=A4)\n",
    "\n",
    "text = c.beginText(30, 715)\n",
    "# Um einen Text Fett darstellen zu lassen musst du Times-Bold nutzen\n",
    "\n",
    "# Es reicht aus die Font einmal zu Beginn festzulegen\n",
    "text.setFont(\"Times-Bold\", 12)\n",
    "text.textLine(\"Formular\")\n",
    "c.drawText(text)\n",
    "\n",
    "text = c.beginText(38, 655)\n",
    "text.setFont(\"Times-Roman\", 8)\n",
    "text.textLine(\"Hiermit bestätige ich die AGBs\")\n",
    "c.drawText(text)\n",
    "\n",
    "\n",
    "# Insert Code here\n",
    "\n",
    "c.save()"
   ]
  },
  {
   "cell_type": "code",
   "execution_count": null,
   "outputs": [],
   "source": [],
   "metadata": {
    "collapsed": false
   },
   "id": "7a7e61b8f41db814"
  }
 ],
 "metadata": {
  "kernelspec": {
   "display_name": "Python 3",
   "language": "python",
   "name": "python3"
  },
  "language_info": {
   "codemirror_mode": {
    "name": "ipython",
    "version": 2
   },
   "file_extension": ".py",
   "mimetype": "text/x-python",
   "name": "python",
   "nbconvert_exporter": "python",
   "pygments_lexer": "ipython2",
   "version": "2.7.6"
  }
 },
 "nbformat": 4,
 "nbformat_minor": 5
}
