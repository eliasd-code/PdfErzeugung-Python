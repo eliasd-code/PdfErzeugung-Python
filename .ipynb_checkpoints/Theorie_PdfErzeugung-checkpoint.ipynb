{
 "cells": [
  {
   "cell_type": "markdown",
   "source": [
    "# PDF Erzeugung\n",
    "\n",
    "Neben zahlreichen Anwendungen in den Bereichen Webentwicklung, Datenanalyse und maschinelles Lernen kann Python auch zur Erzeugung von PDF-Dateien verwendet werden. Dies ermöglicht es, Text, Grafiken und Daten in einem übersichtlichen, plattformunabhängigen Format darzustellen. In diesem Projekt zeigen wir, wie Python in Kombination mit Jupyter Notebook (.ipynb-Dateien) verwendet werden kann, um PDF-Dokumente zu generieren.\n",
    "\n",
    "Um die benötigte Bibliothek herunterzuladen, führe folgenden Befehl im Terminal aus:"
   ],
   "metadata": {
    "collapsed": false
   },
   "id": "45105f37947dbafe"
  },
  {
   "cell_type": "markdown",
   "source": [
    "```sys\n",
    "pip install reportlab\n",
    "```"
   ],
   "metadata": {
    "collapsed": false
   },
   "id": "ac991cf899c805ee"
  },
  {
   "cell_type": "markdown",
   "source": [
    "Importieren von den Entsprechenden Bibliotheken"
   ],
   "metadata": {
    "collapsed": false
   },
   "id": "3e470fcabdc34f8e"
  },
  {
   "cell_type": "code",
   "execution_count": 1,
   "outputs": [],
   "source": [
    "from reportlab.pdfgen import canvas\n",
    "from reportlab.lib.pagesizes import A4"
   ],
   "metadata": {
    "collapsed": false,
    "ExecuteTime": {
     "end_time": "2023-11-07T16:35:20.254025600Z",
     "start_time": "2023-11-07T16:35:19.644261100Z"
    }
   },
   "id": "bbcda7aa7ce809ae"
  },
  {
   "cell_type": "markdown",
   "source": [
    "## Erstellen einer einfache PDF Datei"
   ],
   "metadata": {
    "collapsed": false
   },
   "id": "7179333ba030db63"
  },
  {
   "cell_type": "code",
   "execution_count": 2,
   "outputs": [],
   "source": [
    "# Erstellen der PDF und das Formnat per \"pagesize=A4\" angeben \n",
    "c = canvas.Canvas(\"Beispiel.pdf\", pagesize=A4)"
   ],
   "metadata": {
    "collapsed": false,
    "ExecuteTime": {
     "end_time": "2023-11-07T16:35:20.264164100Z",
     "start_time": "2023-11-07T16:35:20.254025600Z"
    }
   },
   "id": "bdac9b6823665c95"
  },
  {
   "cell_type": "markdown",
   "source": [
    "## Den Text \"Formular\" an den Koordinaten (30, 800) in dem PDF Dokument platzieren"
   ],
   "metadata": {
    "collapsed": false
   },
   "id": "ed1441cd48f5516a"
  },
  {
   "cell_type": "code",
   "execution_count": 3,
   "outputs": [],
   "source": [
    "c.drawString(30, 800, \"Formular\")\n",
    "text = c.beginText(38, 655)\n",
    "\n",
    "text.setFont(\"Times-Roman\", 8)\n",
    "text.textLine(\"Hiermit bestätige ich die AGBs\")\n",
    "c.drawText(text)"
   ],
   "metadata": {
    "collapsed": false,
    "ExecuteTime": {
     "end_time": "2023-11-07T16:35:20.274082Z",
     "start_time": "2023-11-07T16:35:20.260175700Z"
    }
   },
   "id": "9360fbbc51df1635"
  },
  {
   "cell_type": "markdown",
   "source": [
    "## Ein Frame erstellen \n",
    "\"width\" ist die Breite, \"height\" die Höhe, \"stroke\" die Borderbreite und \"fill\" angibt ob das innere gefillt werden soll oder nicht\n"
   ],
   "metadata": {
    "collapsed": false
   },
   "id": "ea5e347bbc36353a"
  },
  {
   "cell_type": "code",
   "execution_count": 4,
   "outputs": [],
   "source": [
    "c.rect(25, 685, width=400, height=100, stroke=1, fill=0)\n",
    "c.drawString(30, 765, \"Vorname:\")"
   ],
   "metadata": {
    "collapsed": false,
    "ExecuteTime": {
     "end_time": "2023-11-07T16:35:20.294537100Z",
     "start_time": "2023-11-07T16:35:20.274082Z"
    }
   },
   "id": "313df43fda454707"
  },
  {
   "cell_type": "markdown",
   "source": [
    "## ein Inputfeld erzeugen "
   ],
   "metadata": {
    "collapsed": false
   },
   "id": "f07525e7e1a2914c"
  },
  {
   "cell_type": "code",
   "execution_count": 5,
   "outputs": [],
   "source": [
    "c.acroForm.textfield(name='tf1', x=100, y=760, width=100, height=15)\n",
    "\n",
    "c.drawString(30, 740, \"Nachname:\")\n",
    "c.acroForm.textfield(name='tf2', x=100, y=735, width=100, height=15)\n",
    "\n",
    "c.drawString(30, 715, \"PLZ:\")\n",
    "c.acroForm.textfield(name='tf3', x=100, y=710, width=100, height=15)"
   ],
   "metadata": {
    "collapsed": false,
    "ExecuteTime": {
     "end_time": "2023-11-07T16:35:20.309497Z",
     "start_time": "2023-11-07T16:35:20.288553300Z"
    }
   },
   "id": "d332034334e5f90b"
  },
  {
   "cell_type": "markdown",
   "source": [
    "## Checkbox erstellen"
   ],
   "metadata": {
    "collapsed": false
   },
   "id": "8618364722c2e5a7"
  },
  {
   "cell_type": "code",
   "execution_count": 6,
   "outputs": [],
   "source": [
    "c.acroForm.checkbox(x=26, y=652, size=10, checked=False, buttonStyle='check', name=\"agb\")\n",
    "\n",
    "# Text für AGB Hinweis erstellen\n",
    "## ein Textobjekt mit den Anfangskoordinaten 38, 655 erstellen\n",
    "text = c.beginText(38, 655)\n",
    "## Die Schriftart so wie die Schriftgröße festlegen\n",
    "text.setFont(\"Times-Roman\", 8)\n",
    "## Den Textinhalt erstellen\n",
    "text.textLine(\"Hiermit bestätige ich die AGBs\")\n",
    "## Den erstellten Text mit der Schriftart und der Schriftgröße auf die Zeichenfläche 'c' zeichnen.\n",
    "c.drawText(text)"
   ],
   "metadata": {
    "collapsed": false,
    "ExecuteTime": {
     "end_time": "2023-11-07T16:35:20.320976Z",
     "start_time": "2023-11-07T16:35:20.308502400Z"
    }
   },
   "id": "a33ec17540b9dedf"
  },
  {
   "cell_type": "markdown",
   "source": [
    "## Hyperlinks einbinden\n",
    "Den interaktiven Bereich erstellen der den Nutzer per Mausklick auf die Website der AGBs weiter leitet."
   ],
   "metadata": {
    "collapsed": false
   },
   "id": "490810620e6dd99e"
  },
  {
   "cell_type": "code",
   "execution_count": 7,
   "outputs": [],
   "source": [
    "# setzten der X Koordinaten\n",
    "link_x = 115\n",
    "# setzten der Y Koordinaten\n",
    "link_y = 655\n",
    "# setzten der Box breite\n",
    "link_width = 20\n",
    "# setzten der Box höhe\n",
    "link_height = 8\n",
    "# die genutzte URL\n",
    "link_url = \"https://www.agb.de\"\n",
    "# Den Bereich definieren mit dem der Link aktiv ist.\n",
    "c.linkURL(link_url, (link_x, link_y, link_x + link_width, link_y + link_height))"
   ],
   "metadata": {
    "collapsed": false,
    "ExecuteTime": {
     "end_time": "2023-11-07T16:35:20.351893100Z",
     "start_time": "2023-11-07T16:35:20.318981600Z"
    }
   },
   "id": "7a60150c03ea5694"
  },
  {
   "cell_type": "markdown",
   "source": [
    "## Bild hiunzufügen"
   ],
   "metadata": {
    "collapsed": false
   },
   "id": "48e65ac10fa826a7"
  },
  {
   "cell_type": "code",
   "execution_count": 8,
   "outputs": [
    {
     "data": {
      "text/plain": "(500, 500)"
     },
     "execution_count": 8,
     "metadata": {},
     "output_type": "execute_result"
    }
   ],
   "source": [
    "# Der Pfad zu dem genutzten Bild\n",
    "image_path = \"Images/el-gatto.jpg\"\n",
    "# Das Bild mit den angegebenen Koordinaten auf der PDF platzieren.\n",
    "c.drawImage(image_path, x=480, y=730, width=100, height=100)"
   ],
   "metadata": {
    "collapsed": false,
    "ExecuteTime": {
     "end_time": "2023-11-07T16:35:20.406746500Z",
     "start_time": "2023-11-07T16:35:20.328954800Z"
    }
   },
   "id": "e2127b9f23e002c4"
  },
  {
   "cell_type": "markdown",
   "source": [
    "## Unterschrift\n",
    "Eine Linie erzeugen die von den Koordinaten 30, 580 bis zu den Koordinaten 100, 580. Doe Linie erstreckt sich horizontal von links nach rechts wobei die Start und Endpunkte auf derselben höhe 580 liegen."
   ],
   "metadata": {
    "collapsed": false
   },
   "id": "5cffdb44444bfb50"
  },
  {
   "cell_type": "code",
   "execution_count": 9,
   "outputs": [],
   "source": [
    "c.line(30, 580, 100, 580)\n",
    "\n",
    "text = c.beginText(30, 572)\n",
    "text.setFont(\"Times-Roman\", 6)\n",
    "text.textLine(\"Unterschrift\")\n",
    "c.drawText(text)\n",
    "\n",
    "c.line(120, 580, 190, 580)\n",
    "text = c.beginText(120, 572)\n",
    "text.setFont(\"Times-Roman\", 6)\n",
    "text.textLine(\"Datum\")\n",
    "c.drawText(text)"
   ],
   "metadata": {
    "collapsed": false,
    "ExecuteTime": {
     "end_time": "2023-11-07T16:35:20.408741Z",
     "start_time": "2023-11-07T16:35:20.399765600Z"
    }
   },
   "id": "d46242525317b83b"
  },
  {
   "cell_type": "markdown",
   "source": [
    "## Speichern"
   ],
   "metadata": {
    "collapsed": false
   },
   "id": "4d377f2945d1d01a"
  },
  {
   "cell_type": "code",
   "execution_count": 10,
   "outputs": [],
   "source": [
    "c.save()"
   ],
   "metadata": {
    "collapsed": false,
    "ExecuteTime": {
     "end_time": "2023-11-07T16:35:27.325365800Z",
     "start_time": "2023-11-07T16:35:27.289139200Z"
    }
   },
   "id": "57a779f413876ce2"
  }
 ],
 "metadata": {
  "kernelspec": {
   "display_name": "Python 3",
   "language": "python",
   "name": "python3"
  },
  "language_info": {
   "codemirror_mode": {
    "name": "ipython",
    "version": 2
   },
   "file_extension": ".py",
   "mimetype": "text/x-python",
   "name": "python",
   "nbconvert_exporter": "python",
   "pygments_lexer": "ipython2",
   "version": "2.7.6"
  }
 },
 "nbformat": 4,
 "nbformat_minor": 5
}
