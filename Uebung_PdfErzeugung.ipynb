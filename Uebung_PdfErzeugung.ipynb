{
 "cells": [
  {
   "cell_type": "markdown",
   "source": [
    "# Übung - PDF Erzeugung\n",
    "\n",
    "Versetze dich in die Lage eines Azubis, der kurz vor der Prüfungsphase steht. Es wird Zeit, ein Thema für die Projektarbeit zu finden! Da du dich dafür entschieden hast, Informatiker zu werden, möchtest du deinen Antrag auch per Code generieren lassen. Was käme also eher in Frage, als die in der Schule kürzlich erlernte Sprache Python zu verwenden, um einen durch Code generierten Antrag als PDF zu erstellen? Cool, nicht? &#128521;\n",
    "\n",
    "Sie dir folgendes Bild an und versuche mit Hilfe des [Theorieblatts](/Theorie_PdfErzeugung.ipynb) die Vorlage nachzubauen.\n",
    "\n",
    "![Bild](images/pdf-vorlage.png)"
   ],
   "metadata": {
    "collapsed": false
   },
   "id": "3b490f1a150a0453"
  },
  {
   "cell_type": "code",
   "execution_count": 9,
   "id": "initial_id",
   "metadata": {
    "collapsed": true,
    "ExecuteTime": {
     "end_time": "2023-11-07T17:00:35.330112900Z",
     "start_time": "2023-11-07T17:00:35.301309300Z"
    }
   },
   "outputs": [],
   "source": [
    "\"\"\" INFOS\n",
    "Schriftart Fett = Helvetica-Bold\n",
    "Schriftart Normal = Helvetica\n",
    "\"\"\"\n",
    "\n",
    "from reportlab.lib.pagesizes import A4\n",
    "from reportlab.pdfgen import canvas\n",
    "\n",
    "c = canvas.Canvas(\"Uebung.pdf\", pagesize=A4)\n",
    "\n",
    "text = c.beginText(40, 715)\n",
    "# Um einen Text Fett darstellen zu lassen musst du Times-Bold nutzen\n",
    "\n",
    "# Times-Bold setzt die Schrift auf Bold\n",
    "text.setFont(\"Helvetica-Bold\", 12)\n",
    "text.textLine(\"Formular\")\n",
    "c.drawText(text)\n",
    "\n",
    "# Standart Schriftart\n",
    "text = c.beginText(40, 655)\n",
    "text.setFont(\"Helvetica\", 8)\n",
    "text.textLine(\"Hiermit bestätige ich die AGBs\")\n",
    "c.drawText(text)\n",
    "\n",
    "\n",
    "# Insert Code here\n",
    "\n"
   ]
  }
 ],
 "metadata": {
  "kernelspec": {
   "display_name": "Python 3",
   "language": "python",
   "name": "python3"
  },
  "language_info": {
   "codemirror_mode": {
    "name": "ipython",
    "version": 2
   },
   "file_extension": ".py",
   "mimetype": "text/x-python",
   "name": "python",
   "nbconvert_exporter": "python",
   "pygments_lexer": "ipython2",
   "version": "2.7.6"
  }
 },
 "nbformat": 4,
 "nbformat_minor": 5
}
